{
 "cells": [
  {
   "cell_type": "markdown",
   "id": "ad770547",
   "metadata": {},
   "source": [
    "## Lectura e integración de datos de análisis de toxina paralizante en moluscos (TPM)"
   ]
  },
  {
   "cell_type": "markdown",
   "id": "ae6664fa",
   "metadata": {},
   "source": [
    "**Importación de librerias**"
   ]
  },
  {
   "cell_type": "code",
   "execution_count": 23,
   "id": "60b10b0e",
   "metadata": {},
   "outputs": [],
   "source": [
    "import pandas as pd\n",
    "import numpy as np"
   ]
  },
  {
   "cell_type": "markdown",
   "id": "5fbaafe3",
   "metadata": {},
   "source": [
    "**Lectura del primer dataset**"
   ]
  },
  {
   "cell_type": "code",
   "execution_count": 14,
   "id": "34147e5c",
   "metadata": {},
   "outputs": [
    {
     "data": {
      "text/html": [
       "<div>\n",
       "<style scoped>\n",
       "    .dataframe tbody tr th:only-of-type {\n",
       "        vertical-align: middle;\n",
       "    }\n",
       "\n",
       "    .dataframe tbody tr th {\n",
       "        vertical-align: top;\n",
       "    }\n",
       "\n",
       "    .dataframe thead th {\n",
       "        text-align: right;\n",
       "    }\n",
       "</style>\n",
       "<table border=\"1\" class=\"dataframe\">\n",
       "  <thead>\n",
       "    <tr style=\"text-align: right;\">\n",
       "      <th></th>\n",
       "      <th>Fecha</th>\n",
       "      <th>Zona_Clasificada</th>\n",
       "      <th>Resultado_cat</th>\n",
       "    </tr>\n",
       "  </thead>\n",
       "  <tbody>\n",
       "    <tr>\n",
       "      <th>0</th>\n",
       "      <td>2021-01-06</td>\n",
       "      <td>ARTF 005</td>\n",
       "      <td>0</td>\n",
       "    </tr>\n",
       "    <tr>\n",
       "      <th>1</th>\n",
       "      <td>2021-01-06</td>\n",
       "      <td>ARTF 002</td>\n",
       "      <td>0</td>\n",
       "    </tr>\n",
       "    <tr>\n",
       "      <th>2</th>\n",
       "      <td>2021-01-06</td>\n",
       "      <td>ARTF 006</td>\n",
       "      <td>0</td>\n",
       "    </tr>\n",
       "    <tr>\n",
       "      <th>3</th>\n",
       "      <td>2021-01-06</td>\n",
       "      <td>ARTF 001</td>\n",
       "      <td>0</td>\n",
       "    </tr>\n",
       "    <tr>\n",
       "      <th>4</th>\n",
       "      <td>2021-01-06</td>\n",
       "      <td>ARTF 003</td>\n",
       "      <td>0</td>\n",
       "    </tr>\n",
       "  </tbody>\n",
       "</table>\n",
       "</div>"
      ],
      "text/plain": [
       "       Fecha Zona_Clasificada  Resultado_cat\n",
       "0 2021-01-06         ARTF 005              0\n",
       "1 2021-01-06         ARTF 002              0\n",
       "2 2021-01-06         ARTF 006              0\n",
       "3 2021-01-06         ARTF 001              0\n",
       "4 2021-01-06         ARTF 003              0"
      ]
     },
     "execution_count": 14,
     "metadata": {},
     "output_type": "execute_result"
    }
   ],
   "source": [
    "df_antiguo = pd.read_excel(\"antiguo_unido.xlsx\")\n",
    "df_antiguo.head()"
   ]
  },
  {
   "cell_type": "markdown",
   "id": "c0b41bc7",
   "metadata": {},
   "source": [
    "**Lectura de nuevos datos**"
   ]
  },
  {
   "cell_type": "code",
   "execution_count": 15,
   "id": "7dbc0e35",
   "metadata": {},
   "outputs": [
    {
     "data": {
      "text/html": [
       "<div>\n",
       "<style scoped>\n",
       "    .dataframe tbody tr th:only-of-type {\n",
       "        vertical-align: middle;\n",
       "    }\n",
       "\n",
       "    .dataframe tbody tr th {\n",
       "        vertical-align: top;\n",
       "    }\n",
       "\n",
       "    .dataframe thead th {\n",
       "        text-align: right;\n",
       "    }\n",
       "</style>\n",
       "<table border=\"1\" class=\"dataframe\">\n",
       "  <thead>\n",
       "    <tr style=\"text-align: right;\">\n",
       "      <th></th>\n",
       "      <th>Fecha</th>\n",
       "      <th>Zona_Clasificada</th>\n",
       "      <th>Resultado_cat</th>\n",
       "    </tr>\n",
       "  </thead>\n",
       "  <tbody>\n",
       "    <tr>\n",
       "      <th>0</th>\n",
       "      <td>2022-03-28</td>\n",
       "      <td>ARTF 001 PUNTA PARANÁ</td>\n",
       "      <td>2</td>\n",
       "    </tr>\n",
       "    <tr>\n",
       "      <th>1</th>\n",
       "      <td>2022-03-28</td>\n",
       "      <td>ARTF 002 BAJO BROWN</td>\n",
       "      <td>2</td>\n",
       "    </tr>\n",
       "    <tr>\n",
       "      <th>2</th>\n",
       "      <td>2022-03-28</td>\n",
       "      <td>ARTF 002 PUNTA LÁPIZ</td>\n",
       "      <td>2</td>\n",
       "    </tr>\n",
       "    <tr>\n",
       "      <th>3</th>\n",
       "      <td>2022-03-28</td>\n",
       "      <td>ARTF 002 PASO GUARANÍ</td>\n",
       "      <td>2</td>\n",
       "    </tr>\n",
       "    <tr>\n",
       "      <th>4</th>\n",
       "      <td>2022-03-28</td>\n",
       "      <td>ARTF 002 BAHÍA BROWN ENTRADA</td>\n",
       "      <td>2</td>\n",
       "    </tr>\n",
       "  </tbody>\n",
       "</table>\n",
       "</div>"
      ],
      "text/plain": [
       "       Fecha              Zona_Clasificada  Resultado_cat\n",
       "0 2022-03-28         ARTF 001 PUNTA PARANÁ              2\n",
       "1 2022-03-28           ARTF 002 BAJO BROWN              2\n",
       "2 2022-03-28          ARTF 002 PUNTA LÁPIZ              2\n",
       "3 2022-03-28         ARTF 002 PASO GUARANÍ              2\n",
       "4 2022-03-28  ARTF 002 BAHÍA BROWN ENTRADA              2"
      ]
     },
     "execution_count": 15,
     "metadata": {},
     "output_type": "execute_result"
    }
   ],
   "source": [
    "df_nuevo = pd.read_excel(\"limpio_unido.xlsx\")\n",
    "df_nuevo.head()"
   ]
  },
  {
   "cell_type": "markdown",
   "id": "2d2b7066",
   "metadata": {},
   "source": [
    "**Unión de ambos sets de datos**"
   ]
  },
  {
   "cell_type": "code",
   "execution_count": 16,
   "id": "1863f394",
   "metadata": {},
   "outputs": [
    {
     "name": "stdout",
     "output_type": "stream",
     "text": [
      "<class 'pandas.core.frame.DataFrame'>\n",
      "RangeIndex: 1000 entries, 0 to 999\n",
      "Data columns (total 3 columns):\n",
      " #   Column            Non-Null Count  Dtype         \n",
      "---  ------            --------------  -----         \n",
      " 0   Fecha             1000 non-null   datetime64[ns]\n",
      " 1   Zona_Clasificada  1000 non-null   object        \n",
      " 2   Resultado_cat     1000 non-null   int64         \n",
      "dtypes: datetime64[ns](1), int64(1), object(1)\n",
      "memory usage: 23.6+ KB\n"
     ]
    }
   ],
   "source": [
    "df_concatenado = pd.concat([df_antiguo, df_nuevo], ignore_index=True)\n",
    "df_concatenado.info()"
   ]
  },
  {
   "cell_type": "code",
   "execution_count": 17,
   "id": "ec09f01b",
   "metadata": {},
   "outputs": [
    {
     "data": {
      "text/html": [
       "<div>\n",
       "<style scoped>\n",
       "    .dataframe tbody tr th:only-of-type {\n",
       "        vertical-align: middle;\n",
       "    }\n",
       "\n",
       "    .dataframe tbody tr th {\n",
       "        vertical-align: top;\n",
       "    }\n",
       "\n",
       "    .dataframe thead th {\n",
       "        text-align: right;\n",
       "    }\n",
       "</style>\n",
       "<table border=\"1\" class=\"dataframe\">\n",
       "  <thead>\n",
       "    <tr style=\"text-align: right;\">\n",
       "      <th></th>\n",
       "      <th>Fecha</th>\n",
       "      <th>Zona_Clasificada</th>\n",
       "      <th>Resultado_cat</th>\n",
       "    </tr>\n",
       "  </thead>\n",
       "  <tbody>\n",
       "    <tr>\n",
       "      <th>0</th>\n",
       "      <td>2021-01-06</td>\n",
       "      <td>ARTF 005</td>\n",
       "      <td>0</td>\n",
       "    </tr>\n",
       "    <tr>\n",
       "      <th>1</th>\n",
       "      <td>2021-01-06</td>\n",
       "      <td>ARTF 002</td>\n",
       "      <td>0</td>\n",
       "    </tr>\n",
       "    <tr>\n",
       "      <th>2</th>\n",
       "      <td>2021-01-06</td>\n",
       "      <td>ARTF 006</td>\n",
       "      <td>0</td>\n",
       "    </tr>\n",
       "    <tr>\n",
       "      <th>3</th>\n",
       "      <td>2021-01-06</td>\n",
       "      <td>ARTF 001</td>\n",
       "      <td>0</td>\n",
       "    </tr>\n",
       "    <tr>\n",
       "      <th>4</th>\n",
       "      <td>2021-01-06</td>\n",
       "      <td>ARTF 003</td>\n",
       "      <td>0</td>\n",
       "    </tr>\n",
       "  </tbody>\n",
       "</table>\n",
       "</div>"
      ],
      "text/plain": [
       "       Fecha Zona_Clasificada  Resultado_cat\n",
       "0 2021-01-06         ARTF 005              0\n",
       "1 2021-01-06         ARTF 002              0\n",
       "2 2021-01-06         ARTF 006              0\n",
       "3 2021-01-06         ARTF 001              0\n",
       "4 2021-01-06         ARTF 003              0"
      ]
     },
     "execution_count": 17,
     "metadata": {},
     "output_type": "execute_result"
    }
   ],
   "source": [
    "df_concatenado.head()"
   ]
  },
  {
   "cell_type": "markdown",
   "id": "352c2592",
   "metadata": {},
   "source": [
    "**Ordenamiento del set de datos y re-indexación para numerar las filas nuevamente.**"
   ]
  },
  {
   "cell_type": "code",
   "execution_count": 18,
   "id": "2907fc4c",
   "metadata": {},
   "outputs": [
    {
     "data": {
      "text/html": [
       "<div>\n",
       "<style scoped>\n",
       "    .dataframe tbody tr th:only-of-type {\n",
       "        vertical-align: middle;\n",
       "    }\n",
       "\n",
       "    .dataframe tbody tr th {\n",
       "        vertical-align: top;\n",
       "    }\n",
       "\n",
       "    .dataframe thead th {\n",
       "        text-align: right;\n",
       "    }\n",
       "</style>\n",
       "<table border=\"1\" class=\"dataframe\">\n",
       "  <thead>\n",
       "    <tr style=\"text-align: right;\">\n",
       "      <th></th>\n",
       "      <th>Fecha</th>\n",
       "      <th>Zona_Clasificada</th>\n",
       "      <th>Resultado_cat</th>\n",
       "    </tr>\n",
       "  </thead>\n",
       "  <tbody>\n",
       "    <tr>\n",
       "      <th>0</th>\n",
       "      <td>2021-01-06</td>\n",
       "      <td>ARTF 005</td>\n",
       "      <td>0</td>\n",
       "    </tr>\n",
       "    <tr>\n",
       "      <th>1</th>\n",
       "      <td>2021-01-06</td>\n",
       "      <td>ARTF 002</td>\n",
       "      <td>0</td>\n",
       "    </tr>\n",
       "    <tr>\n",
       "      <th>2</th>\n",
       "      <td>2021-01-06</td>\n",
       "      <td>ARTF 006</td>\n",
       "      <td>0</td>\n",
       "    </tr>\n",
       "    <tr>\n",
       "      <th>3</th>\n",
       "      <td>2021-01-06</td>\n",
       "      <td>ARTF 001</td>\n",
       "      <td>0</td>\n",
       "    </tr>\n",
       "    <tr>\n",
       "      <th>4</th>\n",
       "      <td>2021-01-06</td>\n",
       "      <td>ARTF 003</td>\n",
       "      <td>0</td>\n",
       "    </tr>\n",
       "  </tbody>\n",
       "</table>\n",
       "</div>"
      ],
      "text/plain": [
       "       Fecha Zona_Clasificada  Resultado_cat\n",
       "0 2021-01-06         ARTF 005              0\n",
       "1 2021-01-06         ARTF 002              0\n",
       "2 2021-01-06         ARTF 006              0\n",
       "3 2021-01-06         ARTF 001              0\n",
       "4 2021-01-06         ARTF 003              0"
      ]
     },
     "execution_count": 18,
     "metadata": {},
     "output_type": "execute_result"
    }
   ],
   "source": [
    "df_ordenado = df_concatenado.sort_values('Fecha').reset_index(drop=True)\n",
    "df_ordenado.head()"
   ]
  },
  {
   "cell_type": "markdown",
   "id": "2f110629",
   "metadata": {},
   "source": [
    "**Agrupacion por fecha tomando el valor maximo de categoria (0: no detectable, 1: apto p/consumo, 2: no apto para consumo)**"
   ]
  },
  {
   "cell_type": "code",
   "execution_count": 19,
   "id": "0072b05c",
   "metadata": {},
   "outputs": [
    {
     "data": {
      "text/html": [
       "<div>\n",
       "<style scoped>\n",
       "    .dataframe tbody tr th:only-of-type {\n",
       "        vertical-align: middle;\n",
       "    }\n",
       "\n",
       "    .dataframe tbody tr th {\n",
       "        vertical-align: top;\n",
       "    }\n",
       "\n",
       "    .dataframe thead th {\n",
       "        text-align: right;\n",
       "    }\n",
       "</style>\n",
       "<table border=\"1\" class=\"dataframe\">\n",
       "  <thead>\n",
       "    <tr style=\"text-align: right;\">\n",
       "      <th></th>\n",
       "      <th>Fecha</th>\n",
       "      <th>Resultado_cat</th>\n",
       "    </tr>\n",
       "  </thead>\n",
       "  <tbody>\n",
       "    <tr>\n",
       "      <th>0</th>\n",
       "      <td>2021-01-06</td>\n",
       "      <td>0</td>\n",
       "    </tr>\n",
       "    <tr>\n",
       "      <th>1</th>\n",
       "      <td>2021-01-11</td>\n",
       "      <td>0</td>\n",
       "    </tr>\n",
       "    <tr>\n",
       "      <th>2</th>\n",
       "      <td>2021-01-20</td>\n",
       "      <td>1</td>\n",
       "    </tr>\n",
       "    <tr>\n",
       "      <th>3</th>\n",
       "      <td>2021-01-28</td>\n",
       "      <td>2</td>\n",
       "    </tr>\n",
       "    <tr>\n",
       "      <th>4</th>\n",
       "      <td>2021-02-03</td>\n",
       "      <td>2</td>\n",
       "    </tr>\n",
       "  </tbody>\n",
       "</table>\n",
       "</div>"
      ],
      "text/plain": [
       "       Fecha  Resultado_cat\n",
       "0 2021-01-06              0\n",
       "1 2021-01-11              0\n",
       "2 2021-01-20              1\n",
       "3 2021-01-28              2\n",
       "4 2021-02-03              2"
      ]
     },
     "execution_count": 19,
     "metadata": {},
     "output_type": "execute_result"
    }
   ],
   "source": [
    "df_resumen = df_ordenado.groupby('Fecha', as_index=False)['Resultado_cat'].max()\n",
    "df_resumen.head()"
   ]
  },
  {
   "cell_type": "markdown",
   "id": "1c5c606f",
   "metadata": {},
   "source": [
    "**Se completan las fechas que no tienen analisis para tener un rango temporal diario**"
   ]
  },
  {
   "cell_type": "code",
   "execution_count": 20,
   "id": "6236f180",
   "metadata": {},
   "outputs": [],
   "source": [
    "# Crear un rango de fechas diario\n",
    "rango_fechas = pd.date_range(start='2021-01-01', end=df_resumen['Fecha'].max(), freq='D')\n",
    "\n",
    "# Reindexar usando ese rango\n",
    "df_completo = df_resumen.set_index('Fecha').reindex(rango_fechas).reset_index()\n",
    "\n",
    "# Renombrar la columna de fecha\n",
    "df_completo = df_completo.rename(columns={'index': 'Fecha'})"
   ]
  },
  {
   "cell_type": "code",
   "execution_count": 21,
   "id": "091de124",
   "metadata": {},
   "outputs": [
    {
     "data": {
      "text/html": [
       "<div>\n",
       "<style scoped>\n",
       "    .dataframe tbody tr th:only-of-type {\n",
       "        vertical-align: middle;\n",
       "    }\n",
       "\n",
       "    .dataframe tbody tr th {\n",
       "        vertical-align: top;\n",
       "    }\n",
       "\n",
       "    .dataframe thead th {\n",
       "        text-align: right;\n",
       "    }\n",
       "</style>\n",
       "<table border=\"1\" class=\"dataframe\">\n",
       "  <thead>\n",
       "    <tr style=\"text-align: right;\">\n",
       "      <th></th>\n",
       "      <th>Fecha</th>\n",
       "      <th>Resultado_cat</th>\n",
       "    </tr>\n",
       "  </thead>\n",
       "  <tbody>\n",
       "    <tr>\n",
       "      <th>0</th>\n",
       "      <td>2021-01-01</td>\n",
       "      <td>NaN</td>\n",
       "    </tr>\n",
       "    <tr>\n",
       "      <th>1</th>\n",
       "      <td>2021-01-02</td>\n",
       "      <td>NaN</td>\n",
       "    </tr>\n",
       "    <tr>\n",
       "      <th>2</th>\n",
       "      <td>2021-01-03</td>\n",
       "      <td>NaN</td>\n",
       "    </tr>\n",
       "    <tr>\n",
       "      <th>3</th>\n",
       "      <td>2021-01-04</td>\n",
       "      <td>NaN</td>\n",
       "    </tr>\n",
       "    <tr>\n",
       "      <th>4</th>\n",
       "      <td>2021-01-05</td>\n",
       "      <td>NaN</td>\n",
       "    </tr>\n",
       "    <tr>\n",
       "      <th>5</th>\n",
       "      <td>2021-01-06</td>\n",
       "      <td>0.0</td>\n",
       "    </tr>\n",
       "    <tr>\n",
       "      <th>6</th>\n",
       "      <td>2021-01-07</td>\n",
       "      <td>NaN</td>\n",
       "    </tr>\n",
       "    <tr>\n",
       "      <th>7</th>\n",
       "      <td>2021-01-08</td>\n",
       "      <td>NaN</td>\n",
       "    </tr>\n",
       "    <tr>\n",
       "      <th>8</th>\n",
       "      <td>2021-01-09</td>\n",
       "      <td>NaN</td>\n",
       "    </tr>\n",
       "    <tr>\n",
       "      <th>9</th>\n",
       "      <td>2021-01-10</td>\n",
       "      <td>NaN</td>\n",
       "    </tr>\n",
       "    <tr>\n",
       "      <th>10</th>\n",
       "      <td>2021-01-11</td>\n",
       "      <td>0.0</td>\n",
       "    </tr>\n",
       "    <tr>\n",
       "      <th>11</th>\n",
       "      <td>2021-01-12</td>\n",
       "      <td>NaN</td>\n",
       "    </tr>\n",
       "    <tr>\n",
       "      <th>12</th>\n",
       "      <td>2021-01-13</td>\n",
       "      <td>NaN</td>\n",
       "    </tr>\n",
       "    <tr>\n",
       "      <th>13</th>\n",
       "      <td>2021-01-14</td>\n",
       "      <td>NaN</td>\n",
       "    </tr>\n",
       "    <tr>\n",
       "      <th>14</th>\n",
       "      <td>2021-01-15</td>\n",
       "      <td>NaN</td>\n",
       "    </tr>\n",
       "    <tr>\n",
       "      <th>15</th>\n",
       "      <td>2021-01-16</td>\n",
       "      <td>NaN</td>\n",
       "    </tr>\n",
       "    <tr>\n",
       "      <th>16</th>\n",
       "      <td>2021-01-17</td>\n",
       "      <td>NaN</td>\n",
       "    </tr>\n",
       "    <tr>\n",
       "      <th>17</th>\n",
       "      <td>2021-01-18</td>\n",
       "      <td>NaN</td>\n",
       "    </tr>\n",
       "    <tr>\n",
       "      <th>18</th>\n",
       "      <td>2021-01-19</td>\n",
       "      <td>NaN</td>\n",
       "    </tr>\n",
       "    <tr>\n",
       "      <th>19</th>\n",
       "      <td>2021-01-20</td>\n",
       "      <td>1.0</td>\n",
       "    </tr>\n",
       "  </tbody>\n",
       "</table>\n",
       "</div>"
      ],
      "text/plain": [
       "        Fecha  Resultado_cat\n",
       "0  2021-01-01            NaN\n",
       "1  2021-01-02            NaN\n",
       "2  2021-01-03            NaN\n",
       "3  2021-01-04            NaN\n",
       "4  2021-01-05            NaN\n",
       "5  2021-01-06            0.0\n",
       "6  2021-01-07            NaN\n",
       "7  2021-01-08            NaN\n",
       "8  2021-01-09            NaN\n",
       "9  2021-01-10            NaN\n",
       "10 2021-01-11            0.0\n",
       "11 2021-01-12            NaN\n",
       "12 2021-01-13            NaN\n",
       "13 2021-01-14            NaN\n",
       "14 2021-01-15            NaN\n",
       "15 2021-01-16            NaN\n",
       "16 2021-01-17            NaN\n",
       "17 2021-01-18            NaN\n",
       "18 2021-01-19            NaN\n",
       "19 2021-01-20            1.0"
      ]
     },
     "execution_count": 21,
     "metadata": {},
     "output_type": "execute_result"
    }
   ],
   "source": [
    "df_completo.head(20)"
   ]
  },
  {
   "cell_type": "markdown",
   "id": "98e727df",
   "metadata": {},
   "source": [
    "**Visualización de registros por cada categoria**"
   ]
  },
  {
   "cell_type": "code",
   "execution_count": 22,
   "id": "4a7d3cad",
   "metadata": {},
   "outputs": [
    {
     "data": {
      "text/plain": [
       "Resultado_cat\n",
       "1.0    116\n",
       "2.0     81\n",
       "0.0     35\n",
       "Name: count, dtype: int64"
      ]
     },
     "execution_count": 22,
     "metadata": {},
     "output_type": "execute_result"
    }
   ],
   "source": [
    "df_completo[\"Resultado_cat\"].value_counts()"
   ]
  },
  {
   "cell_type": "code",
   "execution_count": 24,
   "id": "5ce582a6",
   "metadata": {},
   "outputs": [
    {
     "name": "stdout",
     "output_type": "stream",
     "text": [
      "Creando la feature 'ultimoAnalisis' (esto puede tardar unos segundos)...\n",
      "¡Feature 'ultimoAnalisis' creada con éxito!\n"
     ]
    },
    {
     "data": {
      "text/html": [
       "<div>\n",
       "<style scoped>\n",
       "    .dataframe tbody tr th:only-of-type {\n",
       "        vertical-align: middle;\n",
       "    }\n",
       "\n",
       "    .dataframe tbody tr th {\n",
       "        vertical-align: top;\n",
       "    }\n",
       "\n",
       "    .dataframe thead th {\n",
       "        text-align: right;\n",
       "    }\n",
       "</style>\n",
       "<table border=\"1\" class=\"dataframe\">\n",
       "  <thead>\n",
       "    <tr style=\"text-align: right;\">\n",
       "      <th></th>\n",
       "      <th>Fecha</th>\n",
       "      <th>Resultado_cat</th>\n",
       "      <th>ultimoAnalisis</th>\n",
       "    </tr>\n",
       "  </thead>\n",
       "  <tbody>\n",
       "    <tr>\n",
       "      <th>0</th>\n",
       "      <td>2021-01-01</td>\n",
       "      <td>NaN</td>\n",
       "      <td>0.0</td>\n",
       "    </tr>\n",
       "    <tr>\n",
       "      <th>1</th>\n",
       "      <td>2021-01-02</td>\n",
       "      <td>NaN</td>\n",
       "      <td>0.0</td>\n",
       "    </tr>\n",
       "    <tr>\n",
       "      <th>2</th>\n",
       "      <td>2021-01-03</td>\n",
       "      <td>NaN</td>\n",
       "      <td>0.0</td>\n",
       "    </tr>\n",
       "    <tr>\n",
       "      <th>3</th>\n",
       "      <td>2021-01-04</td>\n",
       "      <td>NaN</td>\n",
       "      <td>0.0</td>\n",
       "    </tr>\n",
       "    <tr>\n",
       "      <th>4</th>\n",
       "      <td>2021-01-05</td>\n",
       "      <td>NaN</td>\n",
       "      <td>0.0</td>\n",
       "    </tr>\n",
       "  </tbody>\n",
       "</table>\n",
       "</div>"
      ],
      "text/plain": [
       "       Fecha  Resultado_cat  ultimoAnalisis\n",
       "0 2021-01-01            NaN             0.0\n",
       "1 2021-01-02            NaN             0.0\n",
       "2 2021-01-03            NaN             0.0\n",
       "3 2021-01-04            NaN             0.0\n",
       "4 2021-01-05            NaN             0.0"
      ]
     },
     "execution_count": 24,
     "metadata": {},
     "output_type": "execute_result"
    }
   ],
   "source": [
    "# 1. Guardar una copia del DataFrame ANTES de rellenar los nulos\n",
    "df_pre_fill = df_completo.copy()\n",
    "\n",
    "# 2. Crear un DataFrame solo con las fechas donde SÍ hubo análisis\n",
    "df_samples_only = df_pre_fill[['Fecha', 'Resultado_cat']].dropna()\n",
    "\n",
    "# 3. Definir la función de búsqueda\n",
    "def find_last_analysis(current_date):\n",
    "    \"\"\"\n",
    "    Busca hacia atrás desde current_date y encuentra el primer análisis\n",
    "    que esté a más de 3 días de distancia.\n",
    "    \"\"\"\n",
    "    # Filtrar solo los análisis que ocurrieron ANTES de la fecha actual\n",
    "    previous_samples = df_samples_only[df_samples_only['Fecha'] < current_date]\n",
    "    \n",
    "    # Si no hay ninguno, devolver un valor nulo\n",
    "    if previous_samples.empty:\n",
    "        return np.nan\n",
    "    \n",
    "    # Iterar desde el más reciente (al final) hacia el más antiguo (al inicio)\n",
    "    for i in range(len(previous_samples) - 1, -1, -1):\n",
    "        sample_row = previous_samples.iloc[i]\n",
    "        sample_date = sample_row['Fecha']\n",
    "        sample_value = sample_row['Resultado_cat']\n",
    "        \n",
    "        # Calcular la diferencia de días\n",
    "        day_diff = (current_date - sample_date).days\n",
    "        \n",
    "        # Aplicar la lógica:\n",
    "        if day_diff > 3:\n",
    "            # ¡Encontrado! Devolver este valor y parar.\n",
    "            return sample_value\n",
    "    \n",
    "    # Si el bucle termina, significa que todos los análisis\n",
    "    # anteriores estaban dentro de los 3 días. Devolvemos nulo.\n",
    "    return np.nan\n",
    "\n",
    "# 4. Aplicar la función a cada fila del DataFrame\n",
    "print(\"Creando la feature 'ultimoAnalisis' (esto puede tardar unos segundos)...\")\n",
    "df_completo['ultimoAnalisis'] = df_completo['Fecha'].apply(find_last_analysis)\n",
    "\n",
    "# 5. Rellenar los nulos restantes (ej. al inicio del dataset) con 0\n",
    "df_completo['ultimoAnalisis'] = df_completo['ultimoAnalisis'].fillna(0)\n",
    "\n",
    "print(\"¡Feature 'ultimoAnalisis' creada con éxito!\")\n",
    "df_completo.head()"
   ]
  },
  {
   "cell_type": "markdown",
   "id": "fef20dcf",
   "metadata": {},
   "source": [
    "Se rellenan los vacios (donde no hay analisis) tomando el valor del analisis inmediato siguiente"
   ]
  },
  {
   "cell_type": "code",
   "execution_count": 25,
   "id": "7618fe42",
   "metadata": {},
   "outputs": [
    {
     "name": "stdout",
     "output_type": "stream",
     "text": [
      "Columna 'Resultado_cat' rellenada.\n"
     ]
    },
    {
     "data": {
      "text/html": [
       "<div>\n",
       "<style scoped>\n",
       "    .dataframe tbody tr th:only-of-type {\n",
       "        vertical-align: middle;\n",
       "    }\n",
       "\n",
       "    .dataframe tbody tr th {\n",
       "        vertical-align: top;\n",
       "    }\n",
       "\n",
       "    .dataframe thead th {\n",
       "        text-align: right;\n",
       "    }\n",
       "</style>\n",
       "<table border=\"1\" class=\"dataframe\">\n",
       "  <thead>\n",
       "    <tr style=\"text-align: right;\">\n",
       "      <th></th>\n",
       "      <th>Fecha</th>\n",
       "      <th>Resultado_cat</th>\n",
       "      <th>ultimoAnalisis</th>\n",
       "    </tr>\n",
       "  </thead>\n",
       "  <tbody>\n",
       "    <tr>\n",
       "      <th>0</th>\n",
       "      <td>2021-01-01</td>\n",
       "      <td>0.0</td>\n",
       "      <td>0.0</td>\n",
       "    </tr>\n",
       "    <tr>\n",
       "      <th>1</th>\n",
       "      <td>2021-01-02</td>\n",
       "      <td>0.0</td>\n",
       "      <td>0.0</td>\n",
       "    </tr>\n",
       "    <tr>\n",
       "      <th>2</th>\n",
       "      <td>2021-01-03</td>\n",
       "      <td>0.0</td>\n",
       "      <td>0.0</td>\n",
       "    </tr>\n",
       "    <tr>\n",
       "      <th>3</th>\n",
       "      <td>2021-01-04</td>\n",
       "      <td>0.0</td>\n",
       "      <td>0.0</td>\n",
       "    </tr>\n",
       "    <tr>\n",
       "      <th>4</th>\n",
       "      <td>2021-01-05</td>\n",
       "      <td>0.0</td>\n",
       "      <td>0.0</td>\n",
       "    </tr>\n",
       "  </tbody>\n",
       "</table>\n",
       "</div>"
      ],
      "text/plain": [
       "       Fecha  Resultado_cat  ultimoAnalisis\n",
       "0 2021-01-01            0.0             0.0\n",
       "1 2021-01-02            0.0             0.0\n",
       "2 2021-01-03            0.0             0.0\n",
       "3 2021-01-04            0.0             0.0\n",
       "4 2021-01-05            0.0             0.0"
      ]
     },
     "execution_count": 25,
     "metadata": {},
     "output_type": "execute_result"
    }
   ],
   "source": [
    "# Ahora que 'ultimoAnalisis' está creada, rellenamos 'Resultado_cat'\n",
    "# para usarla como nuestro TARGET.\n",
    "\n",
    "# Rellenar 'Resultado_cat' usando forward-fill (ffill)\n",
    "df_completo[\"Resultado_cat\"] = df_completo[\"Resultado_cat\"].ffill()\n",
    "\n",
    "# Rellenar los nulos restantes (al inicio) con 0\n",
    "df_completo[\"Resultado_cat\"] = df_completo[\"Resultado_cat\"].fillna(0)\n",
    "\n",
    "print(\"Columna 'Resultado_cat' rellenada.\")\n",
    "df_completo.head()"
   ]
  },
  {
   "cell_type": "markdown",
   "id": "6439b446",
   "metadata": {},
   "source": [
    "**Visualizacion registros por categoria luego de rellenar los nulos**"
   ]
  },
  {
   "cell_type": "code",
   "execution_count": 26,
   "id": "36c0f802",
   "metadata": {},
   "outputs": [
    {
     "data": {
      "text/plain": [
       "Resultado_cat\n",
       "1.0    689\n",
       "2.0    403\n",
       "0.0    368\n",
       "Name: count, dtype: int64"
      ]
     },
     "execution_count": 26,
     "metadata": {},
     "output_type": "execute_result"
    }
   ],
   "source": [
    "df_completo[\"Resultado_cat\"].value_counts()"
   ]
  },
  {
   "cell_type": "code",
   "execution_count": 29,
   "id": "469c4e2d",
   "metadata": {},
   "outputs": [],
   "source": [
    "df_completo['Resultado_cat'] = df_completo['Resultado_cat'].astype('int')\n",
    "df_completo['Resultado_cat'] = df_completo['Resultado_cat'].astype('category')\n",
    "df_completo['ultimoAnalisis'] = df_completo['ultimoAnalisis'].astype('int')\n",
    "df_completo['ultimoAnalisis'] = df_completo['ultimoAnalisis'].astype('category')"
   ]
  },
  {
   "cell_type": "code",
   "execution_count": 30,
   "id": "1d289b4d",
   "metadata": {},
   "outputs": [
    {
     "data": {
      "text/html": [
       "<div>\n",
       "<style scoped>\n",
       "    .dataframe tbody tr th:only-of-type {\n",
       "        vertical-align: middle;\n",
       "    }\n",
       "\n",
       "    .dataframe tbody tr th {\n",
       "        vertical-align: top;\n",
       "    }\n",
       "\n",
       "    .dataframe thead th {\n",
       "        text-align: right;\n",
       "    }\n",
       "</style>\n",
       "<table border=\"1\" class=\"dataframe\">\n",
       "  <thead>\n",
       "    <tr style=\"text-align: right;\">\n",
       "      <th></th>\n",
       "      <th>Fecha</th>\n",
       "      <th>Resultado_cat</th>\n",
       "      <th>ultimoAnalisis</th>\n",
       "    </tr>\n",
       "  </thead>\n",
       "  <tbody>\n",
       "    <tr>\n",
       "      <th>0</th>\n",
       "      <td>2021-01-01</td>\n",
       "      <td>0</td>\n",
       "      <td>0</td>\n",
       "    </tr>\n",
       "    <tr>\n",
       "      <th>1</th>\n",
       "      <td>2021-01-02</td>\n",
       "      <td>0</td>\n",
       "      <td>0</td>\n",
       "    </tr>\n",
       "    <tr>\n",
       "      <th>2</th>\n",
       "      <td>2021-01-03</td>\n",
       "      <td>0</td>\n",
       "      <td>0</td>\n",
       "    </tr>\n",
       "    <tr>\n",
       "      <th>3</th>\n",
       "      <td>2021-01-04</td>\n",
       "      <td>0</td>\n",
       "      <td>0</td>\n",
       "    </tr>\n",
       "    <tr>\n",
       "      <th>4</th>\n",
       "      <td>2021-01-05</td>\n",
       "      <td>0</td>\n",
       "      <td>0</td>\n",
       "    </tr>\n",
       "  </tbody>\n",
       "</table>\n",
       "</div>"
      ],
      "text/plain": [
       "       Fecha Resultado_cat ultimoAnalisis\n",
       "0 2021-01-01             0              0\n",
       "1 2021-01-02             0              0\n",
       "2 2021-01-03             0              0\n",
       "3 2021-01-04             0              0\n",
       "4 2021-01-05             0              0"
      ]
     },
     "execution_count": 30,
     "metadata": {},
     "output_type": "execute_result"
    }
   ],
   "source": [
    "df_completo.head()"
   ]
  },
  {
   "cell_type": "markdown",
   "id": "26198794",
   "metadata": {},
   "source": [
    "**Exportación del set de datos final**"
   ]
  },
  {
   "cell_type": "code",
   "execution_count": 31,
   "id": "553d310f",
   "metadata": {},
   "outputs": [],
   "source": [
    "df_completo.to_excel(\"completo_TPM.xlsx\", index=False)"
   ]
  }
 ],
 "metadata": {
  "kernelspec": {
   "display_name": "Python 3",
   "language": "python",
   "name": "python3"
  },
  "language_info": {
   "codemirror_mode": {
    "name": "ipython",
    "version": 3
   },
   "file_extension": ".py",
   "mimetype": "text/x-python",
   "name": "python",
   "nbconvert_exporter": "python",
   "pygments_lexer": "ipython3",
   "version": "3.13.2"
  }
 },
 "nbformat": 4,
 "nbformat_minor": 5
}
