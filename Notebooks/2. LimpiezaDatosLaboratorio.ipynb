{
 "cells": [
  {
   "cell_type": "markdown",
   "id": "c80dd1f5",
   "metadata": {},
   "source": [
    "## Limpieza de datos de analisis de toxina paralizante en moluscos (TPM)"
   ]
  },
  {
   "cell_type": "code",
   "execution_count": 1,
   "id": "a59e0462",
   "metadata": {},
   "outputs": [],
   "source": [
    "import pandas as pd\n",
    "import numpy as np"
   ]
  },
  {
   "cell_type": "code",
   "execution_count": null,
   "id": "3da5f6ca",
   "metadata": {},
   "outputs": [
    {
     "data": {
      "text/html": [
       "<div>\n",
       "<style scoped>\n",
       "    .dataframe tbody tr th:only-of-type {\n",
       "        vertical-align: middle;\n",
       "    }\n",
       "\n",
       "    .dataframe tbody tr th {\n",
       "        vertical-align: top;\n",
       "    }\n",
       "\n",
       "    .dataframe thead th {\n",
       "        text-align: right;\n",
       "    }\n",
       "</style>\n",
       "<table border=\"1\" class=\"dataframe\">\n",
       "  <thead>\n",
       "    <tr style=\"text-align: right;\">\n",
       "      <th></th>\n",
       "      <th>Fecha</th>\n",
       "      <th>Zona_Clasificada</th>\n",
       "      <th>Producto</th>\n",
       "      <th>Tipo_de_Analisis</th>\n",
       "      <th>Fecha_Inoculacion</th>\n",
       "      <th>Resultado</th>\n",
       "    </tr>\n",
       "  </thead>\n",
       "  <tbody>\n",
       "    <tr>\n",
       "      <th>0</th>\n",
       "      <td>2022-03-28</td>\n",
       "      <td>ARTF 001PUNTA PARANÁ</td>\n",
       "      <td>Mejillón de Banco</td>\n",
       "      <td>TPM</td>\n",
       "      <td>2022-04-04</td>\n",
       "      <td>NO APTO P/CONSUMO</td>\n",
       "    </tr>\n",
       "    <tr>\n",
       "      <th>1</th>\n",
       "      <td>2022-03-28</td>\n",
       "      <td>ARTF 002 BAJO BROWN</td>\n",
       "      <td>Cholga de Banco</td>\n",
       "      <td>TPM</td>\n",
       "      <td>2022-04-04</td>\n",
       "      <td>NO APTO P/CONSUMO</td>\n",
       "    </tr>\n",
       "    <tr>\n",
       "      <th>2</th>\n",
       "      <td>2022-03-28</td>\n",
       "      <td>ARTF 002 PUNTA LÁPIZ</td>\n",
       "      <td>Mejillón de Banco</td>\n",
       "      <td>TPM</td>\n",
       "      <td>2022-04-04</td>\n",
       "      <td>NO APTO P/CONSUMO</td>\n",
       "    </tr>\n",
       "    <tr>\n",
       "      <th>3</th>\n",
       "      <td>2022-03-28</td>\n",
       "      <td>ARTF 002 PASO GUARANÍ</td>\n",
       "      <td>Cholga de Banco</td>\n",
       "      <td>TPM</td>\n",
       "      <td>2022-04-04</td>\n",
       "      <td>NO APTO P/CONSUMO</td>\n",
       "    </tr>\n",
       "    <tr>\n",
       "      <th>4</th>\n",
       "      <td>2022-03-28</td>\n",
       "      <td>ARTF 002 BAHIA BROWN ENTRADA</td>\n",
       "      <td>Mejillón de Cultivo</td>\n",
       "      <td>TPM</td>\n",
       "      <td>2022-04-04</td>\n",
       "      <td>NO APTO P/CONSUMO</td>\n",
       "    </tr>\n",
       "  </tbody>\n",
       "</table>\n",
       "</div>"
      ],
      "text/plain": [
       "       Fecha              Zona_Clasificada             Producto  \\\n",
       "0 2022-03-28          ARTF 001PUNTA PARANÁ    Mejillón de Banco   \n",
       "1 2022-03-28           ARTF 002 BAJO BROWN      Cholga de Banco   \n",
       "2 2022-03-28          ARTF 002 PUNTA LÁPIZ    Mejillón de Banco   \n",
       "3 2022-03-28         ARTF 002 PASO GUARANÍ      Cholga de Banco   \n",
       "4 2022-03-28  ARTF 002 BAHIA BROWN ENTRADA  Mejillón de Cultivo   \n",
       "\n",
       "  Tipo_de_Analisis Fecha_Inoculacion          Resultado  \n",
       "0              TPM        2022-04-04  NO APTO P/CONSUMO  \n",
       "1              TPM        2022-04-04  NO APTO P/CONSUMO  \n",
       "2              TPM        2022-04-04  NO APTO P/CONSUMO  \n",
       "3              TPM        2022-04-04  NO APTO P/CONSUMO  \n",
       "4              TPM        2022-04-04  NO APTO P/CONSUMO  "
      ]
     },
     "execution_count": 2,
     "metadata": {},
     "output_type": "execute_result"
    }
   ],
   "source": [
    "df_2022 = pd.read_excel(\"tablas_2022.xlsx\")\n",
    "\n",
    "df_2022 = df_2022.apply(lambda x: x.str.replace(\"\\n\", \" \", regex=True) if x.dtype == \"object\" else x)\n",
    "\n",
    "df_2022.head()"
   ]
  },
  {
   "cell_type": "code",
   "execution_count": 3,
   "id": "4491fd9d",
   "metadata": {},
   "outputs": [
    {
     "data": {
      "text/plain": [
       "array(['NO APTO P/CONSUMO', 'MENOR A 800', 'MAYOR A 800'], dtype=object)"
      ]
     },
     "execution_count": 3,
     "metadata": {},
     "output_type": "execute_result"
    }
   ],
   "source": [
    "df_2022.Resultado.unique()"
   ]
  },
  {
   "cell_type": "code",
   "execution_count": 4,
   "id": "ef935543",
   "metadata": {},
   "outputs": [
    {
     "name": "stdout",
     "output_type": "stream",
     "text": [
      "       Fecha              Zona_Clasificada             Producto  \\\n",
      "0 2022-03-28          ARTF 001PUNTA PARANÁ    Mejillón de Banco   \n",
      "1 2022-03-28           ARTF 002 BAJO BROWN      Cholga de Banco   \n",
      "2 2022-03-28          ARTF 002 PUNTA LÁPIZ    Mejillón de Banco   \n",
      "3 2022-03-28         ARTF 002 PASO GUARANÍ      Cholga de Banco   \n",
      "4 2022-03-28  ARTF 002 BAHIA BROWN ENTRADA  Mejillón de Cultivo   \n",
      "5 2022-03-28    ARTF 002 BAHIA BROWN FONDO  Mejillón de Cultivo   \n",
      "6 2022-03-28         ZONA 003 BAHÍA VARELA    Mejillón de Banco   \n",
      "7 2022-04-04         ARTF 001 PUNTA PARANÁ    Mejillón de Banco   \n",
      "8 2022-04-04           ARTF 002 BAJO BROWN      Cholga de Banco   \n",
      "9 2022-04-04          ARTF 002 PUNTA LÁPIZ    Mejillón de Banco   \n",
      "\n",
      "  Tipo_de_Analisis Fecha_Inoculacion          Resultado  Resultado_cat  \n",
      "0              TPM        2022-04-04  NO APTO P/CONSUMO              2  \n",
      "1              TPM        2022-04-04  NO APTO P/CONSUMO              2  \n",
      "2              TPM        2022-04-04  NO APTO P/CONSUMO              2  \n",
      "3              TPM        2022-04-04  NO APTO P/CONSUMO              2  \n",
      "4              TPM        2022-04-04  NO APTO P/CONSUMO              2  \n",
      "5              TPM        2022-04-04  NO APTO P/CONSUMO              2  \n",
      "6              TPM        2022-04-04  NO APTO P/CONSUMO              2  \n",
      "7              TPM        2022-04-05  NO APTO P/CONSUMO              2  \n",
      "8              TPM        2022-04-05  NO APTO P/CONSUMO              2  \n",
      "9              TPM        2022-04-05  NO APTO P/CONSUMO              2  \n"
     ]
    }
   ],
   "source": [
    "mapeo = {\n",
    "    \"NO APTO P/CONSUMO\" : 2,\n",
    "    \"MENOR A 800\": 1,\n",
    "    \"MAYOR A 800\" : 2\n",
    "    \n",
    "}\n",
    "df_2022['Resultado_cat'] = df_2022['Resultado'].map(mapeo)\n",
    "print(df_2022.head(10))"
   ]
  },
  {
   "cell_type": "code",
   "execution_count": 5,
   "id": "526fb002",
   "metadata": {},
   "outputs": [
    {
     "name": "stdout",
     "output_type": "stream",
     "text": [
      "       Fecha              Zona_Clasificada  Resultado_cat\n",
      "0 2022-03-28          ARTF 001PUNTA PARANÁ              2\n",
      "1 2022-03-28           ARTF 002 BAJO BROWN              2\n",
      "2 2022-03-28          ARTF 002 PUNTA LÁPIZ              2\n",
      "3 2022-03-28         ARTF 002 PASO GUARANÍ              2\n",
      "4 2022-03-28  ARTF 002 BAHIA BROWN ENTRADA              2\n"
     ]
    }
   ],
   "source": [
    "columnas_a_conservar = [\"Fecha\", \"Zona_Clasificada\", \"Resultado_cat\"]\n",
    "\n",
    "df_relevantes_2022 = df_2022.copy()[columnas_a_conservar]\n",
    "print(df_relevantes_2022.head())"
   ]
  },
  {
   "cell_type": "code",
   "execution_count": 6,
   "id": "690cf5fa",
   "metadata": {},
   "outputs": [
    {
     "name": "stdout",
     "output_type": "stream",
     "text": [
      "La zona 0 es: ARTF 001PUNTA PARANÁ\n",
      "La zona 1 es: ARTF 002 BAJO BROWN\n",
      "La zona 2 es: ARTF 002 PUNTA LÁPIZ\n",
      "La zona 3 es: ARTF 002 PASO GUARANÍ\n",
      "La zona 4 es: ARTF 002 BAHIA BROWN ENTRADA\n",
      "La zona 5 es: ARTF 002 BAHIA BROWN FONDO\n",
      "La zona 6 es: ZONA 003 BAHÍA VARELA\n",
      "La zona 7 es: ARTF 001 PUNTA PARANÁ\n",
      "La zona 8 es: ZONA 003 BAHIA VARELA\n",
      "La zona 9 es: ARTF 001 PUNTA PARANA\n",
      "La zona 10 es: ARTF 002 BAHÍA BROWN ENTRADA\n",
      "La zona 11 es: ARTF 002 BAHÍA BROWN FONDO\n",
      "La zona 12 es: MONITOREO ZONA NO CLASIFICADA BAHIA PACKEWAIA\n"
     ]
    }
   ],
   "source": [
    "zonas = df_relevantes_2022.Zona_Clasificada.unique()\n",
    "for zona in zonas:\n",
    "    print(F\"La zona {np.where(zonas == zona)[0][0]} es: {zona}\")"
   ]
  },
  {
   "cell_type": "code",
   "execution_count": 7,
   "id": "525427c8",
   "metadata": {},
   "outputs": [],
   "source": [
    "df_relevantes_2022[\"Zona_Clasificada\"] = df_relevantes_2022[\"Zona_Clasificada\"].replace({zonas[0]: zonas[7], zonas[4]: zonas[10],zonas[5]: zonas[11],\n",
    "                                                                   zonas[8]: zonas[6], zonas[9]: zonas[7]})"
   ]
  },
  {
   "cell_type": "code",
   "execution_count": 8,
   "id": "1e7a701f",
   "metadata": {},
   "outputs": [
    {
     "name": "stdout",
     "output_type": "stream",
     "text": [
      "La zona 0 es: ARTF 001 PUNTA PARANÁ\n",
      "La zona 1 es: ARTF 002 BAJO BROWN\n",
      "La zona 2 es: ARTF 002 PUNTA LÁPIZ\n",
      "La zona 3 es: ARTF 002 PASO GUARANÍ\n",
      "La zona 4 es: ARTF 002 BAHÍA BROWN ENTRADA\n",
      "La zona 5 es: ARTF 002 BAHÍA BROWN FONDO\n",
      "La zona 6 es: ZONA 003 BAHÍA VARELA\n",
      "La zona 7 es: MONITOREO ZONA NO CLASIFICADA BAHIA PACKEWAIA\n"
     ]
    }
   ],
   "source": [
    "zonas = df_relevantes_2022.Zona_Clasificada.unique()\n",
    "for zona in zonas:\n",
    "    print(F\"La zona {np.where(zonas == zona)[0][0]} es: {zona}\")"
   ]
  },
  {
   "cell_type": "code",
   "execution_count": 9,
   "id": "5457b23c",
   "metadata": {},
   "outputs": [
    {
     "data": {
      "text/html": [
       "<div>\n",
       "<style scoped>\n",
       "    .dataframe tbody tr th:only-of-type {\n",
       "        vertical-align: middle;\n",
       "    }\n",
       "\n",
       "    .dataframe tbody tr th {\n",
       "        vertical-align: top;\n",
       "    }\n",
       "\n",
       "    .dataframe thead th {\n",
       "        text-align: right;\n",
       "    }\n",
       "</style>\n",
       "<table border=\"1\" class=\"dataframe\">\n",
       "  <thead>\n",
       "    <tr style=\"text-align: right;\">\n",
       "      <th></th>\n",
       "      <th>Fecha</th>\n",
       "      <th>Zona_Clasificada</th>\n",
       "      <th>Producto</th>\n",
       "      <th>Tipo_Analisis</th>\n",
       "      <th>Fecha_Inoculacion</th>\n",
       "      <th>Resultado</th>\n",
       "    </tr>\n",
       "  </thead>\n",
       "  <tbody>\n",
       "    <tr>\n",
       "      <th>0</th>\n",
       "      <td>2023-01-02</td>\n",
       "      <td>ARTF 001 PUNTA PARANA</td>\n",
       "      <td>Mejillón de Banco</td>\n",
       "      <td>TPM</td>\n",
       "      <td>2023-01-03</td>\n",
       "      <td>MENOR A 800</td>\n",
       "    </tr>\n",
       "    <tr>\n",
       "      <th>1</th>\n",
       "      <td>2023-01-02</td>\n",
       "      <td>ARTF 002 BAHIA BROWN ENTRADA</td>\n",
       "      <td>Mejillón de Cultivo</td>\n",
       "      <td>TPM</td>\n",
       "      <td>2023-01-03</td>\n",
       "      <td>MENOR A 800</td>\n",
       "    </tr>\n",
       "    <tr>\n",
       "      <th>2</th>\n",
       "      <td>2023-01-02</td>\n",
       "      <td>ARTF 002 PASO GUARANÍ</td>\n",
       "      <td>Cholga de Banco</td>\n",
       "      <td>TPM</td>\n",
       "      <td>2023-01-03</td>\n",
       "      <td>MENOR A 800</td>\n",
       "    </tr>\n",
       "    <tr>\n",
       "      <th>3</th>\n",
       "      <td>2023-01-02</td>\n",
       "      <td>ARTF 002 PUNTA LÁPIZ</td>\n",
       "      <td>Mejillón de Banco</td>\n",
       "      <td>TPM</td>\n",
       "      <td>2023-01-03</td>\n",
       "      <td>MENOR A 800</td>\n",
       "    </tr>\n",
       "    <tr>\n",
       "      <th>4</th>\n",
       "      <td>2023-01-02</td>\n",
       "      <td>ARTF 002 BAHIA BROWN FONDO</td>\n",
       "      <td>Mejillón de Cultivo</td>\n",
       "      <td>TPM</td>\n",
       "      <td>2023-01-03</td>\n",
       "      <td>MENOR A 800</td>\n",
       "    </tr>\n",
       "  </tbody>\n",
       "</table>\n",
       "</div>"
      ],
      "text/plain": [
       "       Fecha              Zona_Clasificada             Producto Tipo_Analisis  \\\n",
       "0 2023-01-02         ARTF 001 PUNTA PARANA    Mejillón de Banco           TPM   \n",
       "1 2023-01-02  ARTF 002 BAHIA BROWN ENTRADA  Mejillón de Cultivo           TPM   \n",
       "2 2023-01-02         ARTF 002 PASO GUARANÍ      Cholga de Banco           TPM   \n",
       "3 2023-01-02          ARTF 002 PUNTA LÁPIZ    Mejillón de Banco           TPM   \n",
       "4 2023-01-02    ARTF 002 BAHIA BROWN FONDO  Mejillón de Cultivo           TPM   \n",
       "\n",
       "  Fecha_Inoculacion    Resultado  \n",
       "0        2023-01-03  MENOR A 800  \n",
       "1        2023-01-03  MENOR A 800  \n",
       "2        2023-01-03  MENOR A 800  \n",
       "3        2023-01-03  MENOR A 800  \n",
       "4        2023-01-03  MENOR A 800  "
      ]
     },
     "execution_count": 9,
     "metadata": {},
     "output_type": "execute_result"
    }
   ],
   "source": [
    "df_2023 = pd.read_excel(\"tablas_2023.xlsx\")\n",
    "\n",
    "# Reemplazar saltos de línea en todo el DataFrame\n",
    "df_2023 = df_2023.apply(lambda x: x.str.replace(\"\\n\", \" \", regex=True) if x.dtype == \"object\" else x)\n",
    "\n",
    "df_2023.head()"
   ]
  },
  {
   "cell_type": "code",
   "execution_count": 10,
   "id": "fd6fbec0",
   "metadata": {},
   "outputs": [
    {
     "data": {
      "text/plain": [
       "array(['MENOR A 800', 'NO APTO P/CONSUMO', 'N.D. (No Detectable)',\n",
       "       'NO APTO', 'NO DETECTABLE', 'Menor a 800', 'N.D.'], dtype=object)"
      ]
     },
     "execution_count": 10,
     "metadata": {},
     "output_type": "execute_result"
    }
   ],
   "source": [
    "df_2023.Resultado.unique()"
   ]
  },
  {
   "cell_type": "code",
   "execution_count": 11,
   "id": "bb89cc64",
   "metadata": {},
   "outputs": [
    {
     "name": "stdout",
     "output_type": "stream",
     "text": [
      "       Fecha              Zona_Clasificada             Producto  \\\n",
      "0 2022-03-28          ARTF 001PUNTA PARANÁ    Mejillón de Banco   \n",
      "1 2022-03-28           ARTF 002 BAJO BROWN      Cholga de Banco   \n",
      "2 2022-03-28          ARTF 002 PUNTA LÁPIZ    Mejillón de Banco   \n",
      "3 2022-03-28         ARTF 002 PASO GUARANÍ      Cholga de Banco   \n",
      "4 2022-03-28  ARTF 002 BAHIA BROWN ENTRADA  Mejillón de Cultivo   \n",
      "5 2022-03-28    ARTF 002 BAHIA BROWN FONDO  Mejillón de Cultivo   \n",
      "6 2022-03-28         ZONA 003 BAHÍA VARELA    Mejillón de Banco   \n",
      "7 2022-04-04         ARTF 001 PUNTA PARANÁ    Mejillón de Banco   \n",
      "8 2022-04-04           ARTF 002 BAJO BROWN      Cholga de Banco   \n",
      "9 2022-04-04          ARTF 002 PUNTA LÁPIZ    Mejillón de Banco   \n",
      "\n",
      "  Tipo_de_Analisis Fecha_Inoculacion          Resultado  Resultado_cat  \n",
      "0              TPM        2022-04-04  NO APTO P/CONSUMO              2  \n",
      "1              TPM        2022-04-04  NO APTO P/CONSUMO              2  \n",
      "2              TPM        2022-04-04  NO APTO P/CONSUMO              2  \n",
      "3              TPM        2022-04-04  NO APTO P/CONSUMO              2  \n",
      "4              TPM        2022-04-04  NO APTO P/CONSUMO              2  \n",
      "5              TPM        2022-04-04  NO APTO P/CONSUMO              2  \n",
      "6              TPM        2022-04-04  NO APTO P/CONSUMO              2  \n",
      "7              TPM        2022-04-05  NO APTO P/CONSUMO              2  \n",
      "8              TPM        2022-04-05  NO APTO P/CONSUMO              2  \n",
      "9              TPM        2022-04-05  NO APTO P/CONSUMO              2  \n"
     ]
    }
   ],
   "source": [
    "mapeo = {\n",
    "    \"MENOR A 800\" : 1,\n",
    "    \"NO APTO P/CONSUMO\": 2,\n",
    "    \"N.D. (No Detectable)\" : 0,\n",
    "    \"NO APTO\": 2,\n",
    "    \"NO DETECTABLE\": 0,\n",
    "    \"Menor a 800\" : 1,\n",
    "    \"N.D.\": 0   \n",
    "}\n",
    "df_2023['Resultado_cat'] = df_2023['Resultado'].map(mapeo)\n",
    "print(df_2022.head(10))"
   ]
  },
  {
   "cell_type": "code",
   "execution_count": 12,
   "id": "5ea16eca",
   "metadata": {},
   "outputs": [
    {
     "name": "stdout",
     "output_type": "stream",
     "text": [
      "       Fecha              Zona_Clasificada  Resultado_cat\n",
      "0 2023-01-02         ARTF 001 PUNTA PARANA              1\n",
      "1 2023-01-02  ARTF 002 BAHIA BROWN ENTRADA              1\n",
      "2 2023-01-02         ARTF 002 PASO GUARANÍ              1\n",
      "3 2023-01-02          ARTF 002 PUNTA LÁPIZ              1\n",
      "4 2023-01-02    ARTF 002 BAHIA BROWN FONDO              1\n"
     ]
    }
   ],
   "source": [
    "df_relevantes_2023 = df_2023.copy()[columnas_a_conservar]\n",
    "print(df_relevantes_2023.head())"
   ]
  },
  {
   "cell_type": "code",
   "execution_count": 13,
   "id": "2bfb9f60",
   "metadata": {},
   "outputs": [
    {
     "name": "stdout",
     "output_type": "stream",
     "text": [
      "La zona 0 es: ARTF 001 PUNTA PARANA\n",
      "La zona 1 es: ARTF 002 BAHIA BROWN ENTRADA\n",
      "La zona 2 es: ARTF 002 PASO GUARANÍ\n",
      "La zona 3 es: ARTF 002 PUNTA LÁPIZ\n",
      "La zona 4 es: ARTF 002 BAHIA BROWN FONDO\n",
      "La zona 5 es: ARTF 002 BAJO BROWN\n",
      "La zona 6 es: ARTF 002 PUNTA LAPIZ\n",
      "La zona 7 es: ARTF 001 PUNTA PARANÁ\n",
      "La zona 8 es: ISLA GABLE\n",
      "La zona 9 es: ARTF 002 BAHÍA BROWN ENTRADA\n",
      "La zona 10 es: ISLA GABLE Baliza Mackinlay\n",
      "La zona 11 es: ISLA GABLE Punta Gable\n",
      "La zona 12 es: ARTF 002 ISLA GABLE\n",
      "La zona 13 es: ARTF 002 REFUGIO GABLE\n",
      "La zona 14 es: ARTF 002 PASO GUARANI\n",
      "La zona 15 es: Isla Gable (Baliza Mackinlay)\n",
      "La zona 16 es: PASO GUARANI REFUGIO\n",
      "La zona 17 es: ISLA GABLE P. MACKINLAY\n",
      "La zona 18 es: ISLA GABLE BALIZA MACKINLAY\n",
      "La zona 19 es: ARTF 002 BAHIA BROWN FONDO (Muestra Capa Superficial).\n",
      "La zona 20 es: ARTF 002 BAHIA BROWN FONDO (Muestra Capa Intermedia).\n",
      "La zona 21 es: ARTF 002 BAHIA BROWN FONDO (Muestra Capa Inferior).\n",
      "La zona 22 es: MACKINLAY\n",
      "La zona 23 es: ARTF 002 ISLA UPU\n",
      "La zona 24 es: ARTF 001 ESTANCIA REMOLINO\n"
     ]
    }
   ],
   "source": [
    "zonas_2023 = df_relevantes_2023.Zona_Clasificada.unique()\n",
    "for zona in zonas_2023:\n",
    "    print(F\"La zona {np.where(zonas_2023 == zona)[0][0]} es: {zona}\")"
   ]
  },
  {
   "cell_type": "code",
   "execution_count": 14,
   "id": "76a0a8a9",
   "metadata": {},
   "outputs": [],
   "source": [
    "df_relevantes_2023[\"Zona_Clasificada\"] = df_relevantes_2023[\"Zona_Clasificada\"].replace({\n",
    "                                                                zonas_2023[0]: zonas[0], zonas_2023[1]: zonas[4],\n",
    "                                                                zonas_2023[2]: zonas[3], zonas_2023[3]: zonas[2],\n",
    "                                                                zonas_2023[4]: zonas[5], zonas_2023[5]: zonas[1],\n",
    "                                                                zonas_2023[6]: zonas[2], zonas_2023[7]: zonas[0],\n",
    "                                                                zonas_2023[8]: zonas_2023[12], zonas_2023[9]: zonas[4],\n",
    "                                                                zonas_2023[10]: zonas_2023[12], zonas_2023[11]: zonas_2023[12],\n",
    "                                                                zonas_2023[13]: zonas_2023[12], zonas_2023[14]: zonas[3],\n",
    "                                                                zonas_2023[15]: zonas_2023[12], zonas_2023[17]: zonas_2023[12],\n",
    "                                                                zonas_2023[18]: zonas_2023[12], zonas_2023[22]: zonas_2023[12]})"
   ]
  },
  {
   "cell_type": "code",
   "execution_count": 15,
   "id": "0ee6a6eb",
   "metadata": {},
   "outputs": [
    {
     "name": "stdout",
     "output_type": "stream",
     "text": [
      "La zona 0 es: ARTF 001 PUNTA PARANÁ\n",
      "La zona 1 es: ARTF 002 BAHÍA BROWN ENTRADA\n",
      "La zona 2 es: ARTF 002 PASO GUARANÍ\n",
      "La zona 3 es: ARTF 002 PUNTA LÁPIZ\n",
      "La zona 4 es: ARTF 002 BAHÍA BROWN FONDO\n",
      "La zona 5 es: ARTF 002 BAJO BROWN\n",
      "La zona 6 es: ARTF 002 ISLA GABLE\n",
      "La zona 7 es: PASO GUARANI REFUGIO\n",
      "La zona 8 es: ARTF 002 BAHIA BROWN FONDO (Muestra Capa Superficial).\n",
      "La zona 9 es: ARTF 002 BAHIA BROWN FONDO (Muestra Capa Intermedia).\n",
      "La zona 10 es: ARTF 002 BAHIA BROWN FONDO (Muestra Capa Inferior).\n",
      "La zona 11 es: ARTF 002 ISLA UPU\n",
      "La zona 12 es: ARTF 001 ESTANCIA REMOLINO\n"
     ]
    }
   ],
   "source": [
    "zonas_2023 = df_relevantes_2023.Zona_Clasificada.unique()\n",
    "for zona in zonas_2023:\n",
    "    print(F\"La zona {np.where(zonas_2023 == zona)[0][0]} es: {zona}\")"
   ]
  },
  {
   "cell_type": "code",
   "execution_count": 16,
   "id": "075d3b07",
   "metadata": {
    "scrolled": false
   },
   "outputs": [
    {
     "name": "stdout",
     "output_type": "stream",
     "text": [
      "Conteo 2022\n",
      "ARTF 001 PUNTA PARANÁ                            34\n",
      "ARTF 002 BAJO BROWN                              33\n",
      "ARTF 002 PUNTA LÁPIZ                             33\n",
      "ARTF 002 PASO GUARANÍ                            33\n",
      "ARTF 002 BAHÍA BROWN ENTRADA                     33\n",
      "ARTF 002 BAHÍA BROWN FONDO                       33\n",
      "ZONA 003 BAHÍA VARELA                            16\n",
      "MONITOREO ZONA NO CLASIFICADA BAHIA PACKEWAIA     2\n",
      "Name: Zona_Clasificada, dtype: int64\n",
      "Conteo 2023\n",
      "ARTF 002 BAHÍA BROWN ENTRADA                              54\n",
      "ARTF 002 PASO GUARANÍ                                     52\n",
      "ARTF 002 BAHÍA BROWN FONDO                                51\n",
      "ARTF 002 PUNTA LÁPIZ                                      48\n",
      "ARTF 002 BAJO BROWN                                       48\n",
      "ARTF 001 PUNTA PARANÁ                                     38\n",
      "ARTF 002 ISLA GABLE                                       12\n",
      "ARTF 002 BAHIA BROWN FONDO (Muestra Capa Superficial).     2\n",
      "ARTF 002 BAHIA BROWN FONDO (Muestra Capa Intermedia).      2\n",
      "ARTF 002 BAHIA BROWN FONDO (Muestra Capa Inferior).        2\n",
      "PASO GUARANI REFUGIO                                       1\n",
      "ARTF 002 ISLA UPU                                          1\n",
      "ARTF 001 ESTANCIA REMOLINO                                 1\n",
      "Name: Zona_Clasificada, dtype: int64\n"
     ]
    }
   ],
   "source": [
    "conteo_2022 = df_relevantes_2022.Zona_Clasificada.value_counts()\n",
    "conteo_2023 = df_relevantes_2023.Zona_Clasificada.value_counts()\n",
    "\n",
    "print(\"Conteo 2022\")\n",
    "print(conteo_2022)\n",
    "print(\"Conteo 2023\")\n",
    "print(conteo_2023)"
   ]
  },
  {
   "cell_type": "code",
   "execution_count": 17,
   "id": "8dd1e167",
   "metadata": {},
   "outputs": [
    {
     "name": "stdout",
     "output_type": "stream",
     "text": [
      "<class 'pandas.core.frame.DataFrame'>\n",
      "RangeIndex: 217 entries, 0 to 216\n",
      "Data columns (total 3 columns):\n",
      " #   Column            Non-Null Count  Dtype         \n",
      "---  ------            --------------  -----         \n",
      " 0   Fecha             217 non-null    datetime64[ns]\n",
      " 1   Zona_Clasificada  217 non-null    object        \n",
      " 2   Resultado_cat     217 non-null    int64         \n",
      "dtypes: datetime64[ns](1), int64(1), object(1)\n",
      "memory usage: 5.2+ KB\n"
     ]
    }
   ],
   "source": [
    "df_relevantes_2022.info()"
   ]
  },
  {
   "cell_type": "code",
   "execution_count": 28,
   "id": "6ebd351d",
   "metadata": {},
   "outputs": [
    {
     "name": "stdout",
     "output_type": "stream",
     "text": [
      "<class 'pandas.core.frame.DataFrame'>\n",
      "Int64Index: 199 entries, 0 to 216\n",
      "Data columns (total 3 columns):\n",
      " #   Column            Non-Null Count  Dtype         \n",
      "---  ------            --------------  -----         \n",
      " 0   Fecha             199 non-null    datetime64[ns]\n",
      " 1   Zona_Clasificada  199 non-null    object        \n",
      " 2   Resultado_cat     199 non-null    int64         \n",
      "dtypes: datetime64[ns](1), int64(1), object(1)\n",
      "memory usage: 6.2+ KB\n"
     ]
    }
   ],
   "source": [
    "zonas_interes = zonas[0:6]\n",
    "\n",
    "df_filtrado_2022 = df_relevantes_2022[df_relevantes_2022[\"Zona_Clasificada\"].isin(zonas_interes)]\n",
    "\n",
    "df_filtrado_2022.info()\n"
   ]
  },
  {
   "cell_type": "code",
   "execution_count": null,
   "id": "cd6ecbc3",
   "metadata": {},
   "outputs": [],
   "source": [
    "#for zona in zonas_interes:\n",
    "# Crear una variable con nombre basado en el valor de 'zona'\n",
    "#    zona_validada = zona.replace(\" \", \"_\")\n",
    "#    globals()[f\"df_2022_{zona_validada}\"] = df_filtrado_2022[df_filtrado_2022['Zona_Clasificada'] == zona]    \n",
    "#     archivo = f\"{zona_validada}.xlsx\"\n",
    "#     globals()[f\"df_{zona_validada}\"].to_excel(archivo, index=False)\n",
    "        \n",
    "\n",
    "#print(df_2022_ARTF_001_PUNTA_PARANÁ)"
   ]
  },
  {
   "cell_type": "code",
   "execution_count": 29,
   "id": "14a2210d",
   "metadata": {},
   "outputs": [
    {
     "name": "stdout",
     "output_type": "stream",
     "text": [
      "<class 'pandas.core.frame.DataFrame'>\n",
      "RangeIndex: 312 entries, 0 to 311\n",
      "Data columns (total 3 columns):\n",
      " #   Column            Non-Null Count  Dtype         \n",
      "---  ------            --------------  -----         \n",
      " 0   Fecha             312 non-null    datetime64[ns]\n",
      " 1   Zona_Clasificada  312 non-null    object        \n",
      " 2   Resultado_cat     312 non-null    int64         \n",
      "dtypes: datetime64[ns](1), int64(1), object(1)\n",
      "memory usage: 7.4+ KB\n"
     ]
    }
   ],
   "source": [
    "df_relevantes_2023.info()"
   ]
  },
  {
   "cell_type": "code",
   "execution_count": 30,
   "id": "2b04b8a0",
   "metadata": {},
   "outputs": [
    {
     "name": "stdout",
     "output_type": "stream",
     "text": [
      "True\n",
      "True\n",
      "True\n",
      "True\n",
      "True\n",
      "True\n",
      "False\n",
      "False\n",
      "False\n",
      "False\n",
      "False\n",
      "False\n",
      "False\n"
     ]
    }
   ],
   "source": [
    "valores= df_relevantes_2023.Zona_Clasificada.unique()\n",
    "\n",
    "for valor in valores:\n",
    "    print(valor in zonas_interes)"
   ]
  },
  {
   "cell_type": "code",
   "execution_count": 31,
   "id": "e6e364c1",
   "metadata": {},
   "outputs": [
    {
     "data": {
      "text/plain": [
       "ARTF 002 BAHÍA BROWN ENTRADA                              54\n",
       "ARTF 002 PASO GUARANÍ                                     52\n",
       "ARTF 002 BAHÍA BROWN FONDO                                51\n",
       "ARTF 002 PUNTA LÁPIZ                                      48\n",
       "ARTF 002 BAJO BROWN                                       48\n",
       "ARTF 001 PUNTA PARANÁ                                     38\n",
       "ARTF 002 ISLA GABLE                                       12\n",
       "ARTF 002 BAHIA BROWN FONDO (Muestra Capa Superficial).     2\n",
       "ARTF 002 BAHIA BROWN FONDO (Muestra Capa Intermedia).      2\n",
       "ARTF 002 BAHIA BROWN FONDO (Muestra Capa Inferior).        2\n",
       "PASO GUARANI REFUGIO                                       1\n",
       "ARTF 002 ISLA UPU                                          1\n",
       "ARTF 001 ESTANCIA REMOLINO                                 1\n",
       "Name: Zona_Clasificada, dtype: int64"
      ]
     },
     "execution_count": 31,
     "metadata": {},
     "output_type": "execute_result"
    }
   ],
   "source": [
    "df_relevantes_2023.Zona_Clasificada.value_counts()"
   ]
  },
  {
   "cell_type": "code",
   "execution_count": 32,
   "id": "96d60a8f",
   "metadata": {},
   "outputs": [
    {
     "data": {
      "text/plain": [
       "ARTF 002 BAHÍA BROWN ENTRADA    54\n",
       "ARTF 002 PASO GUARANÍ           52\n",
       "ARTF 002 BAHÍA BROWN FONDO      51\n",
       "ARTF 002 PUNTA LÁPIZ            48\n",
       "ARTF 002 BAJO BROWN             48\n",
       "ARTF 001 PUNTA PARANÁ           38\n",
       "Name: Zona_Clasificada, dtype: int64"
      ]
     },
     "execution_count": 32,
     "metadata": {},
     "output_type": "execute_result"
    }
   ],
   "source": [
    "df_filtrado_2023 = df_relevantes_2023[df_relevantes_2023[\"Zona_Clasificada\"].isin(zonas_interes)]\n",
    "\n",
    "df_filtrado_2023.Zona_Clasificada.value_counts()"
   ]
  },
  {
   "cell_type": "code",
   "execution_count": 33,
   "id": "80a922cb",
   "metadata": {},
   "outputs": [
    {
     "name": "stdout",
     "output_type": "stream",
     "text": [
      "<class 'pandas.core.frame.DataFrame'>\n",
      "Int64Index: 291 entries, 0 to 311\n",
      "Data columns (total 3 columns):\n",
      " #   Column            Non-Null Count  Dtype         \n",
      "---  ------            --------------  -----         \n",
      " 0   Fecha             291 non-null    datetime64[ns]\n",
      " 1   Zona_Clasificada  291 non-null    object        \n",
      " 2   Resultado_cat     291 non-null    int64         \n",
      "dtypes: datetime64[ns](1), int64(1), object(1)\n",
      "memory usage: 9.1+ KB\n"
     ]
    }
   ],
   "source": [
    "df_filtrado_2023.info()"
   ]
  },
  {
   "cell_type": "code",
   "execution_count": 34,
   "id": "eb3b6603",
   "metadata": {},
   "outputs": [
    {
     "data": {
      "text/html": [
       "<div>\n",
       "<style scoped>\n",
       "    .dataframe tbody tr th:only-of-type {\n",
       "        vertical-align: middle;\n",
       "    }\n",
       "\n",
       "    .dataframe tbody tr th {\n",
       "        vertical-align: top;\n",
       "    }\n",
       "\n",
       "    .dataframe thead th {\n",
       "        text-align: right;\n",
       "    }\n",
       "</style>\n",
       "<table border=\"1\" class=\"dataframe\">\n",
       "  <thead>\n",
       "    <tr style=\"text-align: right;\">\n",
       "      <th></th>\n",
       "      <th>Fecha</th>\n",
       "      <th>Zona_Clasificada</th>\n",
       "      <th>Producto</th>\n",
       "      <th>Tipo_de_Analisis</th>\n",
       "      <th>Fecha_Inoculacion</th>\n",
       "      <th>Resultado</th>\n",
       "    </tr>\n",
       "  </thead>\n",
       "  <tbody>\n",
       "    <tr>\n",
       "      <th>0</th>\n",
       "      <td>2024-01-03</td>\n",
       "      <td>ARTF 001 PUNTA PARANA</td>\n",
       "      <td>Mejillón de Banco</td>\n",
       "      <td>TPM</td>\n",
       "      <td>04/01/2024</td>\n",
       "      <td>N.D. (No Detectable)</td>\n",
       "    </tr>\n",
       "    <tr>\n",
       "      <th>1</th>\n",
       "      <td>2024-01-03</td>\n",
       "      <td>ARTF 002 BAHIA BROWN ENTRADA</td>\n",
       "      <td>Mejillón de Cultivo</td>\n",
       "      <td>TPM</td>\n",
       "      <td>04/01/2024</td>\n",
       "      <td>MENOR A 800</td>\n",
       "    </tr>\n",
       "    <tr>\n",
       "      <th>2</th>\n",
       "      <td>2024-01-03</td>\n",
       "      <td>ARTF 002 PASO GUARANI</td>\n",
       "      <td>Cholga de Banco</td>\n",
       "      <td>TPM</td>\n",
       "      <td>04/01/2024</td>\n",
       "      <td>MENOR A 800</td>\n",
       "    </tr>\n",
       "    <tr>\n",
       "      <th>3</th>\n",
       "      <td>2024-01-03</td>\n",
       "      <td>ARTF 002 PUNTA LAPIZ</td>\n",
       "      <td>Mejillón de Banco</td>\n",
       "      <td>TPM</td>\n",
       "      <td>04/01/2024</td>\n",
       "      <td>N.D. (No Detectable)</td>\n",
       "    </tr>\n",
       "    <tr>\n",
       "      <th>4</th>\n",
       "      <td>2024-01-03</td>\n",
       "      <td>ARTF 002 BAHIA BROWN FONDO</td>\n",
       "      <td>Mejillón de Cultivo</td>\n",
       "      <td>TPM</td>\n",
       "      <td>04/01/2024</td>\n",
       "      <td>MENOR A 800</td>\n",
       "    </tr>\n",
       "  </tbody>\n",
       "</table>\n",
       "</div>"
      ],
      "text/plain": [
       "       Fecha              Zona_Clasificada             Producto  \\\n",
       "0 2024-01-03         ARTF 001 PUNTA PARANA    Mejillón de Banco   \n",
       "1 2024-01-03  ARTF 002 BAHIA BROWN ENTRADA  Mejillón de Cultivo   \n",
       "2 2024-01-03         ARTF 002 PASO GUARANI      Cholga de Banco   \n",
       "3 2024-01-03          ARTF 002 PUNTA LAPIZ    Mejillón de Banco   \n",
       "4 2024-01-03    ARTF 002 BAHIA BROWN FONDO  Mejillón de Cultivo   \n",
       "\n",
       "  Tipo_de_Analisis Fecha_Inoculacion             Resultado  \n",
       "0              TPM        04/01/2024  N.D. (No Detectable)  \n",
       "1              TPM        04/01/2024           MENOR A 800  \n",
       "2              TPM        04/01/2024           MENOR A 800  \n",
       "3              TPM        04/01/2024  N.D. (No Detectable)  \n",
       "4              TPM        04/01/2024           MENOR A 800  "
      ]
     },
     "execution_count": 34,
     "metadata": {},
     "output_type": "execute_result"
    }
   ],
   "source": [
    "df_2024 = pd.read_excel(\"tablas_2024.xlsx\")\n",
    "\n",
    "# Reemplazar saltos de línea en todo el DataFrame\n",
    "df_2024 = df_2024.apply(lambda x: x.str.replace(\"\\n\", \" \", regex=True) if x.dtype == \"object\" else x)\n",
    "\n",
    "df_2024.head()"
   ]
  },
  {
   "cell_type": "code",
   "execution_count": 35,
   "id": "2d86619d",
   "metadata": {},
   "outputs": [
    {
     "data": {
      "text/plain": [
       "array(['N.D. (No Detectable)', 'MENOR A 800', 'N.D. (NO DETECTABLE)'],\n",
       "      dtype=object)"
      ]
     },
     "execution_count": 35,
     "metadata": {},
     "output_type": "execute_result"
    }
   ],
   "source": [
    "df_2024.Resultado.unique()"
   ]
  },
  {
   "cell_type": "code",
   "execution_count": 36,
   "id": "76129fd1",
   "metadata": {},
   "outputs": [
    {
     "name": "stdout",
     "output_type": "stream",
     "text": [
      "       Fecha              Zona_Clasificada             Producto  \\\n",
      "0 2024-01-03         ARTF 001 PUNTA PARANA    Mejillón de Banco   \n",
      "1 2024-01-03  ARTF 002 BAHIA BROWN ENTRADA  Mejillón de Cultivo   \n",
      "2 2024-01-03         ARTF 002 PASO GUARANI      Cholga de Banco   \n",
      "3 2024-01-03          ARTF 002 PUNTA LAPIZ    Mejillón de Banco   \n",
      "4 2024-01-03    ARTF 002 BAHIA BROWN FONDO  Mejillón de Cultivo   \n",
      "5 2024-01-03           ARTF 002 BAJO BROWN      Cholga de Banco   \n",
      "6 2024-01-12         ARTF 001 PUNTA PARANA    Mejillón de Banco   \n",
      "7 2024-01-12  ARTF 002 BAHIA BROWN ENTRADA    Mejillón de Banco   \n",
      "8 2024-01-12         ARTF 002 PASO GUARANI      Cholga de Banco   \n",
      "9 2024-01-12          ARTF 002 PUNTA LAPIZ    Mejillón de Banco   \n",
      "\n",
      "  Tipo_de_Analisis Fecha_Inoculacion             Resultado  Resultado_cat  \n",
      "0              TPM        04/01/2024  N.D. (No Detectable)              0  \n",
      "1              TPM        04/01/2024           MENOR A 800              1  \n",
      "2              TPM        04/01/2024           MENOR A 800              1  \n",
      "3              TPM        04/01/2024  N.D. (No Detectable)              0  \n",
      "4              TPM        04/01/2024           MENOR A 800              1  \n",
      "5              TPM        04/01/2024           MENOR A 800              1  \n",
      "6              TPM        12/01/2024  N.D. (No Detectable)              0  \n",
      "7              TPM        12/01/2024           MENOR A 800              1  \n",
      "8              TPM        12/01/2024           MENOR A 800              1  \n",
      "9              TPM        12/01/2024           MENOR A 800              1  \n"
     ]
    }
   ],
   "source": [
    "mapeo = {\n",
    "    \"N.D. (No Detectable)\" : 0,\n",
    "    \"N.D. (NO DETECTABLE)\": 0,\n",
    "    \"MENOR A 800\" : 1\n",
    "    \n",
    "}\n",
    "df_2024['Resultado_cat'] = df_2024['Resultado'].map(mapeo)\n",
    "print(df_2024.head(10))"
   ]
  },
  {
   "cell_type": "code",
   "execution_count": 37,
   "id": "cc6cf444",
   "metadata": {},
   "outputs": [
    {
     "name": "stdout",
     "output_type": "stream",
     "text": [
      "       Fecha              Zona_Clasificada  Resultado_cat\n",
      "0 2024-01-03         ARTF 001 PUNTA PARANA              0\n",
      "1 2024-01-03  ARTF 002 BAHIA BROWN ENTRADA              1\n",
      "2 2024-01-03         ARTF 002 PASO GUARANI              1\n",
      "3 2024-01-03          ARTF 002 PUNTA LAPIZ              0\n",
      "4 2024-01-03    ARTF 002 BAHIA BROWN FONDO              1\n"
     ]
    }
   ],
   "source": [
    "columnas_a_conservar = [\"Fecha\", \"Zona_Clasificada\", \"Resultado_cat\"]\n",
    "\n",
    "df_relevantes_2024 = df_2024.copy()[columnas_a_conservar]\n",
    "print(df_relevantes_2024.head())"
   ]
  },
  {
   "cell_type": "code",
   "execution_count": 38,
   "id": "dedf9358",
   "metadata": {},
   "outputs": [
    {
     "name": "stdout",
     "output_type": "stream",
     "text": [
      "La zona 0 es: ARTF 001 PUNTA PARANA\n",
      "La zona 1 es: ARTF 002 BAHIA BROWN ENTRADA\n",
      "La zona 2 es: ARTF 002 PASO GUARANI\n",
      "La zona 3 es: ARTF 002 PUNTA LAPIZ\n",
      "La zona 4 es: ARTF 002 BAHIA BROWN FONDO\n",
      "La zona 5 es: ARTF 002 BAJO BROWN\n",
      "La zona 6 es: ARTF 002 BAHÍA BROWN ENTRADA\n",
      "La zona 7 es: ARTF 002 PASO GUARANÍ\n",
      "La zona 8 es: ARTF 002 PUNTA LÁPIZ\n",
      "La zona 9 es: ARTF 002 BAHÍA BROWN FONDO\n",
      "La zona 10 es: ARTF 001 PUNTA PARANÁ\n",
      "La zona 11 es: ARTF 002 PUNTA PARANÁ\n",
      "La zona 12 es: ARTF 002 BAHÍA BROWN BAJO\n",
      "La zona 13 es: ARTF 002 BROWN BAJO\n",
      "La zona 14 es: ARTF 002 BAHÍA BROWN ENTRADA (SUPERIOR)\n",
      "La zona 15 es: ARTF 002 BAHÍA BROWN ENTRADA (MEDIO)\n",
      "La zona 16 es: ARTF 002 BAHÍA BROWN ENTRADA (INFERIOR)\n"
     ]
    }
   ],
   "source": [
    "zonas_2024 = df_relevantes_2024.Zona_Clasificada.unique()\n",
    "for zona in zonas_2024:\n",
    "    print(F\"La zona {np.where(zonas_2024 == zona)[0][0]} es: {zona}\")"
   ]
  },
  {
   "cell_type": "code",
   "execution_count": 39,
   "id": "679b2154",
   "metadata": {},
   "outputs": [],
   "source": [
    "df_relevantes_2024[\"Zona_Clasificada\"] = df_relevantes_2024[\"Zona_Clasificada\"].replace({\n",
    "                                                                zonas_2024[0]: zonas[0], zonas_2024[1]: zonas[4],\n",
    "                                                                zonas_2024[2]: zonas[3], zonas_2024[3]: zonas[2],\n",
    "                                                                zonas_2024[4]: zonas[5], zonas_2024[5]: zonas[1],\n",
    "                                                                zonas_2024[6]: zonas[4], zonas_2024[7]: zonas[3],\n",
    "                                                                zonas_2024[8]: zonas[2], zonas_2024[9]: zonas[5],\n",
    "                                                                zonas_2024[10]: zonas[0], zonas_2024[11]: zonas[0],\n",
    "                                                                zonas_2024[12]: zonas[1], zonas_2024[13]: zonas[1]})"
   ]
  },
  {
   "cell_type": "code",
   "execution_count": 40,
   "id": "54088ce2",
   "metadata": {},
   "outputs": [
    {
     "name": "stdout",
     "output_type": "stream",
     "text": [
      "La zona 0 es: ARTF 001 PUNTA PARANÁ\n",
      "La zona 1 es: ARTF 002 BAHÍA BROWN ENTRADA\n",
      "La zona 2 es: ARTF 002 PASO GUARANÍ\n",
      "La zona 3 es: ARTF 002 PUNTA LÁPIZ\n",
      "La zona 4 es: ARTF 002 BAHÍA BROWN FONDO\n",
      "La zona 5 es: ARTF 002 BAJO BROWN\n",
      "La zona 6 es: ARTF 002 BAHÍA BROWN ENTRADA (SUPERIOR)\n",
      "La zona 7 es: ARTF 002 BAHÍA BROWN ENTRADA (MEDIO)\n",
      "La zona 8 es: ARTF 002 BAHÍA BROWN ENTRADA (INFERIOR)\n"
     ]
    }
   ],
   "source": [
    "zonas_2024 = df_relevantes_2024.Zona_Clasificada.unique()\n",
    "for zona in zonas_2024:\n",
    "    print(F\"La zona {np.where(zonas_2024 == zona)[0][0]} es: {zona}\")"
   ]
  },
  {
   "cell_type": "code",
   "execution_count": 41,
   "id": "d4a205d0",
   "metadata": {},
   "outputs": [
    {
     "data": {
      "text/plain": [
       "ARTF 002 BAHÍA BROWN ENTRADA    46\n",
       "ARTF 002 BAJO BROWN             45\n",
       "ARTF 002 BAHÍA BROWN FONDO      44\n",
       "ARTF 002 PASO GUARANÍ           38\n",
       "ARTF 002 PUNTA LÁPIZ            38\n",
       "ARTF 001 PUNTA PARANÁ           34\n",
       "Name: Zona_Clasificada, dtype: int64"
      ]
     },
     "execution_count": 41,
     "metadata": {},
     "output_type": "execute_result"
    }
   ],
   "source": [
    "df_filtrado_2024 = df_relevantes_2024[df_relevantes_2024[\"Zona_Clasificada\"].isin(zonas_interes)]\n",
    "\n",
    "df_filtrado_2024.Zona_Clasificada.value_counts()"
   ]
  },
  {
   "cell_type": "code",
   "execution_count": 42,
   "id": "63416803",
   "metadata": {},
   "outputs": [
    {
     "name": "stdout",
     "output_type": "stream",
     "text": [
      "<class 'pandas.core.frame.DataFrame'>\n",
      "Int64Index: 245 entries, 0 to 247\n",
      "Data columns (total 3 columns):\n",
      " #   Column            Non-Null Count  Dtype         \n",
      "---  ------            --------------  -----         \n",
      " 0   Fecha             245 non-null    datetime64[ns]\n",
      " 1   Zona_Clasificada  245 non-null    object        \n",
      " 2   Resultado_cat     245 non-null    int64         \n",
      "dtypes: datetime64[ns](1), int64(1), object(1)\n",
      "memory usage: 7.7+ KB\n"
     ]
    }
   ],
   "source": [
    "df_filtrado_2024.info()"
   ]
  },
  {
   "cell_type": "code",
   "execution_count": 43,
   "id": "af74c797",
   "metadata": {},
   "outputs": [
    {
     "name": "stdout",
     "output_type": "stream",
     "text": [
      "<class 'pandas.core.frame.DataFrame'>\n",
      "Int64Index: 735 entries, 0 to 247\n",
      "Data columns (total 3 columns):\n",
      " #   Column            Non-Null Count  Dtype         \n",
      "---  ------            --------------  -----         \n",
      " 0   Fecha             735 non-null    datetime64[ns]\n",
      " 1   Zona_Clasificada  735 non-null    object        \n",
      " 2   Resultado_cat     735 non-null    int64         \n",
      "dtypes: datetime64[ns](1), int64(1), object(1)\n",
      "memory usage: 23.0+ KB\n",
      "None\n"
     ]
    }
   ],
   "source": [
    "df_unido = pd.concat([df_filtrado_2022, df_filtrado_2023,df_filtrado_2024])\n",
    "df_unido.reset_index()\n",
    "print(df_unido.info())"
   ]
  },
  {
   "cell_type": "code",
   "execution_count": 44,
   "id": "2ab82c88",
   "metadata": {},
   "outputs": [],
   "source": [
    "df_unido.to_excel(\"limpio_unido.xlsx\", index=False)"
   ]
  }
 ],
 "metadata": {
  "kernelspec": {
   "display_name": "Python 3 (ipykernel)",
   "language": "python",
   "name": "python3"
  },
  "language_info": {
   "codemirror_mode": {
    "name": "ipython",
    "version": 3
   },
   "file_extension": ".py",
   "mimetype": "text/x-python",
   "name": "python",
   "nbconvert_exporter": "python",
   "pygments_lexer": "ipython3",
   "version": "3.10.9"
  }
 },
 "nbformat": 4,
 "nbformat_minor": 5
}
