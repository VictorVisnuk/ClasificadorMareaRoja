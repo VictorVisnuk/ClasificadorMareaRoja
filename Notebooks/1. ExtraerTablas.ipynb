{
 "cells": [
  {
   "cell_type": "markdown",
   "id": "7ff3b232-9724-4738-a3f4-a68ee247dcb7",
   "metadata": {},
   "source": [
    "### Codigo para extraer las tablas de los pdf enviados desde el laboratorio"
   ]
  },
  {
   "cell_type": "markdown",
   "id": "7798fe2c-7508-4057-b0ff-cac0c7d090ab",
   "metadata": {},
   "source": [
    "##### Instala la biblioteca pdfplumber (descomentar en caso de que sea necesario)"
   ]
  },
  {
   "cell_type": "code",
   "execution_count": 1,
   "id": "6d7601c9-463a-42c9-ade0-4cded9a89ce8",
   "metadata": {},
   "outputs": [],
   "source": [
    "## !pip install pdfplumber"
   ]
  },
  {
   "cell_type": "markdown",
   "id": "6ed015ac-980b-4933-8580-d1021ea5132c",
   "metadata": {},
   "source": [
    "##### Importa las bibliotecas necesarias"
   ]
  },
  {
   "cell_type": "code",
   "execution_count": 2,
   "id": "6f341300-abc7-4edd-a636-fdae532611f0",
   "metadata": {},
   "outputs": [],
   "source": [
    "import pdfplumber\n",
    "import pandas as pd"
   ]
  },
  {
   "cell_type": "markdown",
   "id": "4b82f283-7388-4db9-868e-641e3f91c00e",
   "metadata": {},
   "source": [
    "##### Establece la ruta del archivo y utiliza pdf plumber para extraer las tablas para luego, mediante pandas unirlas en un solo dataframe que luego guarda en un archivo .xlsx"
   ]
  },
  {
   "cell_type": "code",
   "execution_count": 8,
   "id": "cd5c9ec3-54bf-47bf-a6a2-56b510e656c1",
   "metadata": {},
   "outputs": [],
   "source": [
    "pdf_path = \"RESULTADOS TPM AÑO 2022.pdf\"\n",
    "\n",
    "# Extraer todas las tablas\n",
    "tables = []\n",
    "with pdfplumber.open(pdf_path) as pdf:\n",
    "    for page in pdf.pages:\n",
    "        extracted_tables = page.extract_tables()\n",
    "        for table in extracted_tables:\n",
    "            df = pd.DataFrame(table)\n",
    "            tables.append(df)\n",
    "\n",
    "# Concatenar todas las tablas en una sola\n",
    "df_final = pd.concat(tables, ignore_index=True)\n",
    "\n",
    "# Guardar en Excel\n",
    "df_final.to_excel(\"tablas_2022.xlsx\", index=False)"
   ]
  },
  {
   "cell_type": "markdown",
   "id": "333ad667-dec4-4584-ac8d-18810c300744",
   "metadata": {},
   "source": [
    "##### Repetir el proceso para cada archivo (uno por año)"
   ]
  },
  {
   "cell_type": "code",
   "execution_count": 9,
   "id": "fdc09c4e-6bc8-45d2-ac07-930a1b973f6d",
   "metadata": {},
   "outputs": [],
   "source": [
    "pdf_path = \"RESULTADOS TPM AÑO 2023.pdf\"\n",
    "\n",
    "# Extraer todas las tablas\n",
    "tables = []\n",
    "with pdfplumber.open(pdf_path) as pdf:\n",
    "    for page in pdf.pages:\n",
    "        extracted_tables = page.extract_tables()\n",
    "        for table in extracted_tables:\n",
    "            df = pd.DataFrame(table)\n",
    "            tables.append(df)\n",
    "\n",
    "# Concatenar todas las tablas en una sola\n",
    "df_final = pd.concat(tables, ignore_index=True)\n",
    "\n",
    "# Guardar en Excel\n",
    "df_final.to_excel(\"tablas_2023.xlsx\", index=False)"
   ]
  },
  {
   "cell_type": "code",
   "execution_count": 3,
   "id": "a79f977f",
   "metadata": {},
   "outputs": [],
   "source": [
    "pdf_path = \"RESULTADOS TPM AÑO 2024.pdf\"\n",
    "\n",
    "# Extraer todas las tablas\n",
    "tables = []\n",
    "with pdfplumber.open(pdf_path) as pdf:\n",
    "    for page in pdf.pages:\n",
    "        extracted_tables = page.extract_tables()\n",
    "        for table in extracted_tables:\n",
    "            df = pd.DataFrame(table)\n",
    "            tables.append(df)\n",
    "\n",
    "# Concatenar todas las tablas en una sola\n",
    "df_final = pd.concat(tables, ignore_index=True)\n",
    "\n",
    "# Guardar en Excel\n",
    "df_final.to_excel(\"tablas_2024.xlsx\", index=False)"
   ]
  }
 ],
 "metadata": {
  "kernelspec": {
   "display_name": "Python 3 (ipykernel)",
   "language": "python",
   "name": "python3"
  },
  "language_info": {
   "codemirror_mode": {
    "name": "ipython",
    "version": 3
   },
   "file_extension": ".py",
   "mimetype": "text/x-python",
   "name": "python",
   "nbconvert_exporter": "python",
   "pygments_lexer": "ipython3",
   "version": "3.10.9"
  }
 },
 "nbformat": 4,
 "nbformat_minor": 5
}
